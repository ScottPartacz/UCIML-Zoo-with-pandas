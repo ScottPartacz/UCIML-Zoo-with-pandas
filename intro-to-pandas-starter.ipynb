{
    "cells": [
        {
            "cell_type": "markdown",
            "metadata": {
                "azdata_cell_guid": "d8edfa4f-d389-4418-ab43-1acca1d5d2c3"
            },
            "source": [
                "# Intro to Pandas - Exercise\n",
                "\n",
                "In this lesson, we have given you the starting data.  Now let's explore the UCI ML Zoo Dataset using `pandas`."
            ]
        },
        {
            "cell_type": "markdown",
            "metadata": {
                "azdata_cell_guid": "884c6ea1-5be7-4b5c-a5a8-3f16b4dde72a"
            },
            "source": [
                "Put the [zoo.csv](zoo.csv) file in the same folder as this notebook. Then answer the following questions using code.\n",
                "\n",
                "## Exercise Questions"
            ]
        },
        {
            "cell_type": "markdown",
            "metadata": {
                "azdata_cell_guid": "10b3083f-a433-4d96-bb1a-7c3b1b5351dd"
            },
            "source": [
                "1. What is the code to import our zoo dataset into a variable named `animals`?"
            ]
        },
        {
            "cell_type": "code",
            "execution_count": null,
            "metadata": {
                "azdata_cell_guid": "5ccf5932-e045-4fba-b500-ec5acd0738d7"
            },
            "outputs": [],
            "source": [
                "import pandas as pd\n",
                "\n",
                "animals = pd.read_csv(\"wiki_movie_plots_deduped.csv\")"
            ]
        },
        {
            "cell_type": "markdown",
            "metadata": {
                "azdata_cell_guid": "aa692593-98ca-4086-9e63-07d1ee8a4cc5"
            },
            "source": [
                "2. What is the type of the `animals` variable?"
            ]
        },
        {
            "cell_type": "code",
            "execution_count": null,
            "metadata": {
                "azdata_cell_guid": "97807c20-fd9d-4cdd-bbfb-12ea74468155"
            },
            "outputs": [],
            "source": []
        },
        {
            "cell_type": "markdown",
            "metadata": {
                "azdata_cell_guid": "276aca06-5333-4b06-af8e-650c237bda4d"
            },
            "source": [
                "3. How many animals are in this dataset?"
            ]
        },
        {
            "cell_type": "code",
            "execution_count": null,
            "metadata": {
                "azdata_cell_guid": "96261b5b-1eee-43c7-8d77-ccbb97b3d1c7"
            },
            "outputs": [],
            "source": []
        },
        {
            "cell_type": "markdown",
            "metadata": {
                "azdata_cell_guid": "721ef658-8dff-48c8-ba82-9087089c31aa"
            },
            "source": [
                "4. How many rows and columns are in this dataset?"
            ]
        },
        {
            "cell_type": "code",
            "execution_count": null,
            "metadata": {
                "azdata_cell_guid": "aa2a3c8a-d579-446a-8625-938fb8314f79"
            },
            "outputs": [],
            "source": []
        },
        {
            "cell_type": "markdown",
            "metadata": {
                "azdata_cell_guid": "70f5747f-3db2-4c3e-8dea-933e33b29531"
            },
            "source": [
                "5\\. What are the columns of this dataset?"
            ]
        },
        {
            "cell_type": "code",
            "execution_count": null,
            "metadata": {
                "azdata_cell_guid": "8e15c479-17fd-430b-8775-78402583d163"
            },
            "outputs": [],
            "source": []
        },
        {
            "cell_type": "markdown",
            "metadata": {
                "azdata_cell_guid": "d47c1de6-7529-4cb1-87b8-dae06d5832fa"
            },
            "source": [
                "6\\. Are there any non-null observations?"
            ]
        },
        {
            "cell_type": "code",
            "execution_count": null,
            "metadata": {
                "azdata_cell_guid": "9a8600a0-372a-474c-a000-3b10436a514b"
            },
            "outputs": [],
            "source": []
        },
        {
            "cell_type": "markdown",
            "metadata": {
                "azdata_cell_guid": "29e86652-570c-4dfb-b97f-1db14f0a477b"
            },
            "source": [
                "7\\. How do you list the columns and their types?"
            ]
        },
        {
            "cell_type": "code",
            "execution_count": null,
            "metadata": {
                "azdata_cell_guid": "8198eb30-33e7-4026-ad33-34b9e5b2de91"
            },
            "outputs": [],
            "source": []
        },
        {
            "cell_type": "markdown",
            "metadata": {
                "azdata_cell_guid": "07fdd1ab-2e67-45da-9616-79f390296ec2"
            },
            "source": [
                "8. We want to explore animal names, legs, and catsize.  Filter `animals` to only use those fields."
            ]
        },
        {
            "cell_type": "code",
            "execution_count": null,
            "metadata": {
                "azdata_cell_guid": "1aa74cb4-bd38-4a47-beef-3a2e2daa1bfb"
            },
            "outputs": [],
            "source": []
        },
        {
            "cell_type": "markdown",
            "metadata": {
                "azdata_cell_guid": "f0cc8730-6696-469a-9b42-cf2c368d9b39"
            },
            "source": [
                "9\\. What are the first 6 rows of this dataset?"
            ]
        },
        {
            "cell_type": "code",
            "execution_count": null,
            "metadata": {
                "azdata_cell_guid": "37c24239-2e86-48bd-8c44-9c91e81ebf71"
            },
            "outputs": [],
            "source": []
        },
        {
            "cell_type": "markdown",
            "metadata": {
                "azdata_cell_guid": "d88e295e-1f77-4da4-b170-0a4d11d6e768"
            },
            "source": [
                "10\\. What are the last 3 rows of this dataset?"
            ]
        },
        {
            "cell_type": "code",
            "execution_count": null,
            "metadata": {
                "azdata_cell_guid": "86830363-875a-49a3-bf38-27ca6e138274"
            },
            "outputs": [],
            "source": []
        },
        {
            "cell_type": "markdown",
            "metadata": {
                "azdata_cell_guid": "3dce8114-047b-4b84-b32e-8c502468f898"
            },
            "source": [
                "11\\. What are the values for `legs`? How many observations are there for each value?"
            ]
        },
        {
            "cell_type": "code",
            "execution_count": null,
            "metadata": {
                "azdata_cell_guid": "b5fec6a8-8e43-4fe5-a2c8-518dbbf93db1"
            },
            "outputs": [],
            "source": []
        },
        {
            "cell_type": "markdown",
            "metadata": {
                "azdata_cell_guid": "8cd13055-8870-4caa-b2e4-3b39ab571e6d"
            },
            "source": [
                "12\\. Let's filter our animal set further to only include legged animals.  Set `animals` to this filtered set."
            ]
        },
        {
            "cell_type": "code",
            "execution_count": null,
            "metadata": {
                "azdata_cell_guid": "1bbae140-7e71-4b48-b754-b5ee4dd67f89"
            },
            "outputs": [],
            "source": []
        },
        {
            "cell_type": "markdown",
            "metadata": {
                "azdata_cell_guid": "f621b7f9-d853-491d-8589-aea65468e6e7"
            },
            "source": [
                "13\\. What is the largest amount of legs?"
            ]
        },
        {
            "cell_type": "code",
            "execution_count": null,
            "metadata": {
                "azdata_cell_guid": "4eacc23f-43f2-4147-93bf-f3adb21471e3"
            },
            "outputs": [],
            "source": []
        },
        {
            "cell_type": "markdown",
            "metadata": {
                "azdata_cell_guid": "641f4b81-51f0-421e-9d6a-51ef3e57d5ed"
            },
            "source": [
                "14\\. Which animals have the largest amount of legs?"
            ]
        },
        {
            "cell_type": "code",
            "execution_count": null,
            "metadata": {
                "azdata_cell_guid": "93b30c3c-ca5d-46c6-961f-8d724b4b090c"
            },
            "outputs": [],
            "source": []
        },
        {
            "cell_type": "markdown",
            "metadata": {
                "azdata_cell_guid": "bf19a22c-7ba1-4e58-b4a3-549011427d0e"
            },
            "source": [
                "15\\. Looking at the legs, there are mostly even numbered values.  Which animal has 5 legs?  Try to guess it before writing the code."
            ]
        },
        {
            "cell_type": "code",
            "execution_count": null,
            "metadata": {
                "azdata_cell_guid": "00235ec4-ff1f-403a-a0f2-782c479796e4"
            },
            "outputs": [],
            "source": []
        }
    ],
    "metadata": {
        "kernelspec": {
            "display_name": "Python 3",
            "language": "python",
            "name": "python3"
        },
        "language_info": {
            "codemirror_mode": {
                "name": "ipython",
                "version": 3
            },
            "file_extension": ".py",
            "mimetype": "text/x-python",
            "name": "python",
            "nbconvert_exporter": "python",
            "pygments_lexer": "ipython3",
            "version": "3.7.4"
        }
    },
    "nbformat": 4,
    "nbformat_minor": 2
}
